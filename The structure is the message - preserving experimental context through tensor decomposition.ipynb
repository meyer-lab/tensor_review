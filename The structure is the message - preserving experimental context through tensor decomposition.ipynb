{
 "cells": [
  {
   "cell_type": "markdown",
   "id": "ad826cfc",
   "metadata": {},
   "source": [
    "# The structure is the message: preserving experimental context through tensor decomposition"
   ]
  },
  {
   "cell_type": "markdown",
   "id": "e8e6c511",
   "metadata": {},
   "source": [
    "<h3 style=\"text-align: center;\">Z. Cyrillus Tan, Aaron S. Meyer</h3>"
   ]
  },
  {
   "cell_type": "markdown",
   "id": "e8dac2fe",
   "metadata": {},
   "source": [
    "In this demonstration, we provide an example on how to apply tensor methods to a biological dataset."
   ]
  },
  {
   "cell_type": "markdown",
   "id": "ac83eb02",
   "metadata": {},
   "source": [
    "## 1. Import data and structure it to a tensor format"
   ]
  },
  {
   "cell_type": "markdown",
   "id": "f4b7c86b",
   "metadata": {},
   "source": [
    "First, we import the example dataset."
   ]
  },
  {
   "cell_type": "code",
   "execution_count": 1,
   "id": "9ca148d2",
   "metadata": {},
   "outputs": [
    {
     "data": {
      "text/html": [
       "<div>\n",
       "<style scoped>\n",
       "    .dataframe tbody tr th:only-of-type {\n",
       "        vertical-align: middle;\n",
       "    }\n",
       "\n",
       "    .dataframe tbody tr th {\n",
       "        vertical-align: top;\n",
       "    }\n",
       "\n",
       "    .dataframe thead tr th {\n",
       "        text-align: left;\n",
       "    }\n",
       "</style>\n",
       "<table border=\"1\" class=\"dataframe\">\n",
       "  <thead>\n",
       "    <tr>\n",
       "      <th></th>\n",
       "      <th colspan=\"5\" halign=\"left\">Alfazumab</th>\n",
       "      <th colspan=\"5\" halign=\"left\">Bravociclib</th>\n",
       "      <th>...</th>\n",
       "      <th colspan=\"5\" halign=\"left\">Echoxacin</th>\n",
       "      <th colspan=\"5\" halign=\"left\">Foxtrotolol</th>\n",
       "    </tr>\n",
       "    <tr>\n",
       "      <th></th>\n",
       "      <th>1 hr</th>\n",
       "      <th>3 hr</th>\n",
       "      <th>6 hr</th>\n",
       "      <th>12 hr</th>\n",
       "      <th>24 hr</th>\n",
       "      <th>1 hr</th>\n",
       "      <th>3 hr</th>\n",
       "      <th>6 hr</th>\n",
       "      <th>12 hr</th>\n",
       "      <th>24 hr</th>\n",
       "      <th>...</th>\n",
       "      <th>1 hr</th>\n",
       "      <th>3 hr</th>\n",
       "      <th>6 hr</th>\n",
       "      <th>12 hr</th>\n",
       "      <th>24 hr</th>\n",
       "      <th>1 hr</th>\n",
       "      <th>3 hr</th>\n",
       "      <th>6 hr</th>\n",
       "      <th>12 hr</th>\n",
       "      <th>24 hr</th>\n",
       "    </tr>\n",
       "  </thead>\n",
       "  <tbody>\n",
       "    <tr>\n",
       "      <th>Brain</th>\n",
       "      <td>7.5931</td>\n",
       "      <td>-74.0560</td>\n",
       "      <td>-156.3267</td>\n",
       "      <td>-152.0899</td>\n",
       "      <td>-129.2603</td>\n",
       "      <td>69.7114</td>\n",
       "      <td>111.0545</td>\n",
       "      <td>177.4723</td>\n",
       "      <td>161.4991</td>\n",
       "      <td>157.9950</td>\n",
       "      <td>...</td>\n",
       "      <td>87.7958</td>\n",
       "      <td>200.3265</td>\n",
       "      <td>353.3183</td>\n",
       "      <td>317.5187</td>\n",
       "      <td>283.2818</td>\n",
       "      <td>-28.2758</td>\n",
       "      <td>-22.8253</td>\n",
       "      <td>-26.9893</td>\n",
       "      <td>-20.9940</td>\n",
       "      <td>-24.8508</td>\n",
       "    </tr>\n",
       "    <tr>\n",
       "      <th>Skin</th>\n",
       "      <td>96.4908</td>\n",
       "      <td>97.6188</td>\n",
       "      <td>135.4522</td>\n",
       "      <td>106.3627</td>\n",
       "      <td>107.4902</td>\n",
       "      <td>84.3421</td>\n",
       "      <td>68.4413</td>\n",
       "      <td>80.3329</td>\n",
       "      <td>67.1187</td>\n",
       "      <td>80.8065</td>\n",
       "      <td>...</td>\n",
       "      <td>58.7727</td>\n",
       "      <td>19.6130</td>\n",
       "      <td>9.9165</td>\n",
       "      <td>-1.6546</td>\n",
       "      <td>-5.6995</td>\n",
       "      <td>-61.4324</td>\n",
       "      <td>-59.4331</td>\n",
       "      <td>-72.4681</td>\n",
       "      <td>-62.6582</td>\n",
       "      <td>-80.3741</td>\n",
       "    </tr>\n",
       "    <tr>\n",
       "      <th>Pancreas</th>\n",
       "      <td>82.8958</td>\n",
       "      <td>41.7587</td>\n",
       "      <td>43.6539</td>\n",
       "      <td>9.7820</td>\n",
       "      <td>-3.6321</td>\n",
       "      <td>116.1266</td>\n",
       "      <td>123.8453</td>\n",
       "      <td>163.5675</td>\n",
       "      <td>149.8666</td>\n",
       "      <td>175.2404</td>\n",
       "      <td>...</td>\n",
       "      <td>120.0887</td>\n",
       "      <td>172.2481</td>\n",
       "      <td>215.8126</td>\n",
       "      <td>226.1064</td>\n",
       "      <td>323.9284</td>\n",
       "      <td>-57.6145</td>\n",
       "      <td>-32.3156</td>\n",
       "      <td>-51.3740</td>\n",
       "      <td>-23.2484</td>\n",
       "      <td>13.8744</td>\n",
       "    </tr>\n",
       "    <tr>\n",
       "      <th>Liver</th>\n",
       "      <td>54.0536</td>\n",
       "      <td>-2.0641</td>\n",
       "      <td>-29.5443</td>\n",
       "      <td>-51.6633</td>\n",
       "      <td>-55.9508</td>\n",
       "      <td>102.3161</td>\n",
       "      <td>122.6016</td>\n",
       "      <td>172.1183</td>\n",
       "      <td>158.7541</td>\n",
       "      <td>176.4939</td>\n",
       "      <td>...</td>\n",
       "      <td>112.8466</td>\n",
       "      <td>189.4797</td>\n",
       "      <td>269.7720</td>\n",
       "      <td>268.1009</td>\n",
       "      <td>331.7243</td>\n",
       "      <td>-46.3147</td>\n",
       "      <td>-26.0519</td>\n",
       "      <td>-40.3760</td>\n",
       "      <td>-18.4811</td>\n",
       "      <td>9.3109</td>\n",
       "    </tr>\n",
       "    <tr>\n",
       "      <th>Heart</th>\n",
       "      <td>176.2525</td>\n",
       "      <td>118.8718</td>\n",
       "      <td>117.1203</td>\n",
       "      <td>95.2692</td>\n",
       "      <td>133.7000</td>\n",
       "      <td>126.5419</td>\n",
       "      <td>127.0990</td>\n",
       "      <td>179.5757</td>\n",
       "      <td>136.0497</td>\n",
       "      <td>130.0312</td>\n",
       "      <td>...</td>\n",
       "      <td>121.8980</td>\n",
       "      <td>182.4849</td>\n",
       "      <td>279.9835</td>\n",
       "      <td>239.0031</td>\n",
       "      <td>246.0975</td>\n",
       "      <td>-97.8848</td>\n",
       "      <td>-77.1348</td>\n",
       "      <td>-101.4701</td>\n",
       "      <td>-73.2257</td>\n",
       "      <td>-64.2342</td>\n",
       "    </tr>\n",
       "    <tr>\n",
       "      <th>Colon</th>\n",
       "      <td>45.5757</td>\n",
       "      <td>-33.6277</td>\n",
       "      <td>-102.2309</td>\n",
       "      <td>-101.4290</td>\n",
       "      <td>-71.5326</td>\n",
       "      <td>80.1902</td>\n",
       "      <td>113.8835</td>\n",
       "      <td>178.9411</td>\n",
       "      <td>155.4155</td>\n",
       "      <td>148.6795</td>\n",
       "      <td>...</td>\n",
       "      <td>94.3906</td>\n",
       "      <td>200.4200</td>\n",
       "      <td>348.5009</td>\n",
       "      <td>308.1313</td>\n",
       "      <td>276.5570</td>\n",
       "      <td>-43.5885</td>\n",
       "      <td>-35.1011</td>\n",
       "      <td>-43.4352</td>\n",
       "      <td>-32.9590</td>\n",
       "      <td>-35.0784</td>\n",
       "    </tr>\n",
       "    <tr>\n",
       "      <th>Kidney</th>\n",
       "      <td>90.7719</td>\n",
       "      <td>82.5750</td>\n",
       "      <td>116.1591</td>\n",
       "      <td>86.8304</td>\n",
       "      <td>76.0428</td>\n",
       "      <td>77.3614</td>\n",
       "      <td>66.4917</td>\n",
       "      <td>78.0255</td>\n",
       "      <td>65.8033</td>\n",
       "      <td>83.3234</td>\n",
       "      <td>...</td>\n",
       "      <td>73.4567</td>\n",
       "      <td>80.2512</td>\n",
       "      <td>69.3572</td>\n",
       "      <td>83.7880</td>\n",
       "      <td>172.3019</td>\n",
       "      <td>-47.7500</td>\n",
       "      <td>-26.8817</td>\n",
       "      <td>-43.6549</td>\n",
       "      <td>-19.8480</td>\n",
       "      <td>12.6196</td>\n",
       "    </tr>\n",
       "  </tbody>\n",
       "</table>\n",
       "<p>7 rows × 30 columns</p>\n",
       "</div>"
      ],
      "text/plain": [
       "         Alfazumab                                         Bravociclib  \\\n",
       "              1 hr      3 hr      6 hr     12 hr     24 hr        1 hr   \n",
       "Brain       7.5931  -74.0560 -156.3267 -152.0899 -129.2603     69.7114   \n",
       "Skin       96.4908   97.6188  135.4522  106.3627  107.4902     84.3421   \n",
       "Pancreas   82.8958   41.7587   43.6539    9.7820   -3.6321    116.1266   \n",
       "Liver      54.0536   -2.0641  -29.5443  -51.6633  -55.9508    102.3161   \n",
       "Heart     176.2525  118.8718  117.1203   95.2692  133.7000    126.5419   \n",
       "Colon      45.5757  -33.6277 -102.2309 -101.4290  -71.5326     80.1902   \n",
       "Kidney     90.7719   82.5750  116.1591   86.8304   76.0428     77.3614   \n",
       "\n",
       "                                                  ... Echoxacin            \\\n",
       "              3 hr      6 hr     12 hr     24 hr  ...      1 hr      3 hr   \n",
       "Brain     111.0545  177.4723  161.4991  157.9950  ...   87.7958  200.3265   \n",
       "Skin       68.4413   80.3329   67.1187   80.8065  ...   58.7727   19.6130   \n",
       "Pancreas  123.8453  163.5675  149.8666  175.2404  ...  120.0887  172.2481   \n",
       "Liver     122.6016  172.1183  158.7541  176.4939  ...  112.8466  189.4797   \n",
       "Heart     127.0990  179.5757  136.0497  130.0312  ...  121.8980  182.4849   \n",
       "Colon     113.8835  178.9411  155.4155  148.6795  ...   94.3906  200.4200   \n",
       "Kidney     66.4917   78.0255   65.8033   83.3234  ...   73.4567   80.2512   \n",
       "\n",
       "                                       Foxtrotolol                     \\\n",
       "              6 hr     12 hr     24 hr        1 hr     3 hr      6 hr   \n",
       "Brain     353.3183  317.5187  283.2818    -28.2758 -22.8253  -26.9893   \n",
       "Skin        9.9165   -1.6546   -5.6995    -61.4324 -59.4331  -72.4681   \n",
       "Pancreas  215.8126  226.1064  323.9284    -57.6145 -32.3156  -51.3740   \n",
       "Liver     269.7720  268.1009  331.7243    -46.3147 -26.0519  -40.3760   \n",
       "Heart     279.9835  239.0031  246.0975    -97.8848 -77.1348 -101.4701   \n",
       "Colon     348.5009  308.1313  276.5570    -43.5885 -35.1011  -43.4352   \n",
       "Kidney     69.3572   83.7880  172.3019    -47.7500 -26.8817  -43.6549   \n",
       "\n",
       "                            \n",
       "            12 hr    24 hr  \n",
       "Brain    -20.9940 -24.8508  \n",
       "Skin     -62.6582 -80.3741  \n",
       "Pancreas -23.2484  13.8744  \n",
       "Liver    -18.4811   9.3109  \n",
       "Heart    -73.2257 -64.2342  \n",
       "Colon    -32.9590 -35.0784  \n",
       "Kidney   -19.8480  12.6196  \n",
       "\n",
       "[7 rows x 30 columns]"
      ]
     },
     "execution_count": 1,
     "metadata": {},
     "output_type": "execute_result"
    }
   ],
   "source": [
    "import numpy as np\n",
    "import pandas as pd\n",
    "from os.path import join, dirname\n",
    "\n",
    "data = pd.read_csv(\"example_drug_data.csv\", \n",
    "                   delimiter=\",\", comment=\"#\", index_col=0, header=[0, 1])\n",
    "data"
   ]
  },
  {
   "cell_type": "markdown",
   "id": "efaf3ae0",
   "metadata": {},
   "source": [
    "Although this multiindex format can represent the data correctly, analyzing them as a spreadsheet/matrix muddles the relationship of drugs and time points. To better understand the signals in this datasets, we first convert the dataset into tensor format. The original data has three modes: Organs, Drugs, and Time points, each having 7, 6, and 5 entries."
   ]
  },
  {
   "cell_type": "code",
   "execution_count": 2,
   "id": "c8cc8e41",
   "metadata": {},
   "outputs": [
    {
     "name": "stdout",
     "output_type": "stream",
     "text": [
      "[['Brain', 'Skin', 'Pancreas', 'Liver', 'Heart', 'Colon', 'Kidney'], ['Alfazumab', 'Bravociclib', 'Charlivir', 'Deltatinib', 'Echoxacin', 'Foxtrotolol'], ['1 hr', '3 hr', '6 hr', '12 hr', '24 hr']]\n"
     ]
    },
    {
     "data": {
      "text/plain": [
       "array([[[   7.5931,  -74.056 , -156.3267, -152.0899, -129.2603],\n",
       "        [  69.7114,  111.0545,  177.4723,  161.4991,  157.995 ],\n",
       "        [  68.0527,  130.6083,  210.7125,  206.7382,  213.4184],\n",
       "        [   0.5923,   80.0086,  179.5254,  144.0355,   87.8173],\n",
       "        [  87.7958,  200.3265,  353.3183,  317.5187,  283.2818],\n",
       "        [ -28.2758,  -22.8253,  -26.9893,  -20.994 ,  -24.8508]],\n",
       "\n",
       "       [[  96.4908,   97.6188,  135.4522,  106.3627,  107.4902],\n",
       "        [  84.3421,   68.4413,   80.3329,   67.1187,   80.8065],\n",
       "        [  47.7073,   56.7609,   56.444 ,   71.3942,  124.8541],\n",
       "        [ -41.5447,  -85.8681, -117.5078, -127.2689, -174.8336],\n",
       "        [  58.7727,   19.613 ,    9.9165,   -1.6546,   -5.6995],\n",
       "        [ -61.4324,  -59.4331,  -72.4681,  -62.6582,  -80.3741]],\n",
       "\n",
       "       [[  82.8958,   41.7587,   43.6539,    9.782 ,   -3.6321],\n",
       "        [ 116.1266,  123.8453,  163.5675,  149.8666,  175.2404],\n",
       "        [  58.2814,   41.5263,   94.9442,   68.5988,  -16.8659],\n",
       "        [  -8.7859,   53.0051,   36.7611,   70.6833,  200.4127],\n",
       "        [ 120.0887,  172.2481,  215.8126,  226.1064,  323.9284],\n",
       "        [ -57.6145,  -32.3156,  -51.374 ,  -23.2484,   13.8744]],\n",
       "\n",
       "       [[  54.0536,   -2.0641,  -29.5443,  -51.6633,  -55.9508],\n",
       "        [ 102.3161,  122.6016,  172.1183,  158.7541,  176.4939],\n",
       "        [  64.5437,   72.2617,  138.3943,  117.8525,   54.8836],\n",
       "        [  -6.0798,   65.9478,   84.9613,   99.2392,  180.454 ],\n",
       "        [ 112.8466,  189.4797,  269.772 ,  268.1009,  331.7243],\n",
       "        [ -46.3147,  -26.0519,  -40.376 ,  -18.4811,    9.3109]],\n",
       "\n",
       "       [[ 176.2525,  118.8718,  117.1203,   95.2692,  133.7   ],\n",
       "        [ 126.5419,  127.099 ,  179.5757,  136.0497,  130.0312],\n",
       "        [  -8.5867,  -24.2365,    1.7063,  -45.3029, -131.5577],\n",
       "        [  49.661 ,  148.8044,  225.5783,  242.1085,  304.1596],\n",
       "        [ 121.898 ,  182.4849,  279.9835,  239.0031,  246.0975],\n",
       "        [ -97.8848,  -77.1348, -101.4701,  -73.2257,  -64.2342]],\n",
       "\n",
       "       [[  45.5757,  -33.6277, -102.2309, -101.429 ,  -71.5326],\n",
       "        [  80.1902,  113.8835,  178.9411,  155.4155,  148.6795],\n",
       "        [  46.5094,   93.1496,  161.5269,  146.1838,  130.4188],\n",
       "        [  16.8095,  106.5628,  210.598 ,  184.945 ,  151.0049],\n",
       "        [  94.3906,  200.42  ,  348.5009,  308.1313,  276.557 ],\n",
       "        [ -43.5885,  -35.1011,  -43.4352,  -32.959 ,  -35.0784]],\n",
       "\n",
       "       [[  90.7719,   82.575 ,  116.1591,   86.8304,   76.0428],\n",
       "        [  77.3614,   66.4917,   78.0255,   65.8033,   83.3234],\n",
       "        [   6.9782,  -36.9686,  -26.5928,  -56.4948, -146.8149],\n",
       "        [   8.5349,   46.3207,   11.8956,   56.8941,  194.9679],\n",
       "        [  73.4567,   80.2512,   69.3572,   83.788 ,  172.3019],\n",
       "        [ -47.75  ,  -26.8817,  -43.6549,  -19.848 ,   12.6196]]])"
      ]
     },
     "execution_count": 2,
     "metadata": {},
     "output_type": "execute_result"
    }
   ],
   "source": [
    "# Retrieve mode axes information\n",
    "shape = (7, 6, 5)\n",
    "axes_names = [\"Organs\", \"Drugs\", \"Times\"]\n",
    "organs = data.index.tolist()\n",
    "drugs = data.columns.get_level_values(0).unique().tolist()\n",
    "times = data.columns.get_level_values(1).unique().tolist()\n",
    "entry_names = [organs, drugs, times]\n",
    "print(entry_names)\n",
    "\n",
    "# Now convert the data into a three mode tensor\n",
    "tensor = data.to_numpy().reshape(*shape)\n",
    "tensor"
   ]
  },
  {
   "cell_type": "markdown",
   "id": "078ccc4a",
   "metadata": {},
   "source": [
    "## 2. Perform CP decomposition on the data"
   ]
  },
  {
   "cell_type": "markdown",
   "id": "bebf4d35",
   "metadata": {},
   "source": [
    "Now we perform a CP (also called PARAFAC) decomposition on this tensor. Here, we choose 4 components."
   ]
  },
  {
   "cell_type": "code",
   "execution_count": 3,
   "id": "7376ae6e",
   "metadata": {},
   "outputs": [],
   "source": [
    "from tensorly.decomposition import parafac\n",
    "\n",
    "cp = parafac(tensor, 4)"
   ]
  },
  {
   "cell_type": "markdown",
   "id": "b8096b42",
   "metadata": {},
   "source": [
    "In `TensorLy` package, the results of CP is stored into two sets of values, weights and factors. Weights is a vector of values, and factors is a set of factor matrices."
   ]
  },
  {
   "cell_type": "code",
   "execution_count": 4,
   "id": "b93af0a3",
   "metadata": {},
   "outputs": [
    {
     "data": {
      "text/plain": [
       "array([1., 1., 1., 1.])"
      ]
     },
     "execution_count": 4,
     "metadata": {},
     "output_type": "execute_result"
    }
   ],
   "source": [
    "cp[0]"
   ]
  },
  {
   "cell_type": "code",
   "execution_count": 5,
   "id": "b8cbd063",
   "metadata": {},
   "outputs": [
    {
     "data": {
      "text/plain": [
       "[array([[-2.34586322e+02,  3.98803407e+00, -1.42942614e+02,\n",
       "          2.99688580e+00],\n",
       "        [-4.65631970e+02,  2.04895187e+01,  3.45327946e+01,\n",
       "          1.95890354e+00],\n",
       "        [-5.36243117e+02, -6.54655734e+01, -2.63043379e+01,\n",
       "          3.85363104e+00],\n",
       "        [-4.31239845e+02, -4.88757941e+01, -6.53530897e+01,\n",
       "          4.00734258e+00],\n",
       "        [-8.12440799e+02, -2.82942795e+01, -9.25077643e+01,\n",
       "         -5.01763110e+00],\n",
       "        [-3.60087842e+02, -1.49909846e+00, -1.40837825e+02,\n",
       "          6.79332049e-01],\n",
       "        [-4.42593166e+02, -5.80553684e+01,  1.82299883e+01,\n",
       "          1.67272249e-01]]),\n",
       " array([[-0.48981349,  0.27285009,  1.27592464,  2.25235801],\n",
       "        [-0.40854262, -0.15778073, -0.74029523, -2.10675503],\n",
       "        [-0.13420475,  1.54395504, -0.89293116, -4.9903648 ],\n",
       "        [ 0.06242462, -2.16139963, -1.62082448,  3.21441368],\n",
       "        [-0.33365878, -1.28356907, -2.02920754, -2.29750326],\n",
       "        [ 0.29353388, -0.63852021, -0.04868366, -0.07922179]]),\n",
       " array([[ 0.42314515,  0.1974291 ,  0.13955157, -2.30400665],\n",
       "        [ 0.37147786,  0.58912676,  0.52349501, -3.24539398],\n",
       "        [ 0.47110049,  0.46403048,  0.9962156 , -4.41720989],\n",
       "        [ 0.37637738,  0.77246835,  0.88822483, -5.1006651 ],\n",
       "        [ 0.41416451,  1.83867423,  0.74333764, -6.32640523]])]"
      ]
     },
     "execution_count": 5,
     "metadata": {},
     "output_type": "execute_result"
    }
   ],
   "source": [
    "cp[1]"
   ]
  },
  {
   "cell_type": "markdown",
   "id": "71c37948",
   "metadata": {},
   "source": [
    "## 3. Choosing the number of components"
   ]
  },
  {
   "cell_type": "code",
   "execution_count": 6,
   "id": "4c0e5f7a",
   "metadata": {},
   "outputs": [
    {
     "data": {
      "text/plain": [
       "<AxesSubplot:xlabel='Num of Comps.', ylabel='Error'>"
      ]
     },
     "execution_count": 6,
     "metadata": {},
     "output_type": "execute_result"
    },
    {
     "data": {
      "image/png": "[encoded data removed]",
      "text/plain": [
       "<Figure size 432x288 with 1 Axes>"
      ]
     },
     "metadata": {
      "needs_background": "light"
     },
     "output_type": "display_data"
    }
   ],
   "source": [
    "import seaborn as sns\n",
    "from tensorly.cp_tensor import CPTensor\n",
    "\n",
    "def error(original, res):\n",
    "    if isinstance(res, CPTensor):\n",
    "        res = res.to_tensor()\n",
    "    return np.sum((original - res)**2) / np.sum(original**2)\n",
    "\n",
    "errors = pd.DataFrame(columns=[\"Num of Comps.\", \"Error\"])\n",
    "for rr in np.arange(1, 7):\n",
    "    errors.loc[len(errors)+1] = [rr, error(tensor, parafac(tensor, rr))]\n",
    "\n",
    "sns.lineplot(data=errors, x=\"Num of Comps.\", y=\"Error\", markers=\"o\")"
   ]
  },
  {
   "cell_type": "code",
   "execution_count": 7,
   "id": "da740bbf",
   "metadata": {},
   "outputs": [],
   "source": [
    "rank = 3\n",
    "cp = parafac(tensor, rank)"
   ]
  },
  {
   "cell_type": "markdown",
   "id": "a894ac9f",
   "metadata": {},
   "source": [
    "### Compare CP and PCA performance\n",
    "\n",
    "The number of components chosen directly relates to the data compression efficiency and fidelity trade-off. Basically, when we choose more components, the reconstructed tensor has lower error, but with the cost of needing more parameters. We compare this relationship between CP and principal component analysis (PCA) performed on the original flattened matrix."
   ]
  },
  {
   "cell_type": "code",
   "execution_count": 8,
   "id": "59b673e1",
   "metadata": {},
   "outputs": [],
   "source": [
    "reduction = pd.DataFrame({'Size': [], 'Error': [], 'Method': [], 'Data': []})\n",
    "\n",
    "# Add CP reduction\n",
    "for rr in np.arange(1, 10):\n",
    "    reduction = reduction.append({\n",
    "                'Size': rr * np.sum(tensor.shape),\n",
    "                'Error': error(tensor, parafac(tensor, rr, tol=1e-09)),\n",
    "                'Method': \"CP\",\n",
    "                'Data': 'Original',\n",
    "              },\n",
    "              ignore_index=True)"
   ]
  },
  {
   "cell_type": "code",
   "execution_count": 9,
   "id": "7e35da47",
   "metadata": {},
   "outputs": [],
   "source": [
    "from sklearn.decomposition import PCA\n",
    "\n",
    "flatten = tensor.reshape(tensor.shape[0], -1)\n",
    "pca = PCA(n_components=flatten.shape[0])\n",
    "pca.fit(flatten)\n",
    "pca_errors = 1 - np.cumsum(pca.explained_variance_ratio_)\n",
    "pca_sizes = np.sum(flatten.shape) * np.arange(1, flatten.shape[0] + 1)\n",
    "for rr in range(flatten.shape[0]-1):\n",
    "    reduction = reduction.append({\n",
    "            'Size': pca_sizes[rr],\n",
    "            'Error': pca_errors[rr],\n",
    "            'Method': \"PCA\",\n",
    "            'Data': 'Original',\n",
    "          },\n",
    "          ignore_index=True)"
   ]
  },
  {
   "cell_type": "code",
   "execution_count": 10,
   "id": "0ba600a0",
   "metadata": {},
   "outputs": [
    {
     "data": {
      "text/plain": [
       "<AxesSubplot:xlabel='Size', ylabel='Error'>"
      ]
     },
     "execution_count": 10,
     "metadata": {},
     "output_type": "execute_result"
    },
    {
     "data": {
      "image/png": "[encoded data removed]",
      "text/plain": [
       "<Figure size 432x288 with 1 Axes>"
      ]
     },
     "metadata": {
      "needs_background": "light"
     },
     "output_type": "display_data"
    }
   ],
   "source": [
    "sns.lineplot(data=reduction, x=\"Size\", y=\"Error\", style=\"Method\", marker=\"o\", color=\"#006BC9\")"
   ]
  },
  {
   "cell_type": "markdown",
   "id": "709b32d4",
   "metadata": {},
   "source": [
    "As we can see here, CP compresses the data more efficiently than PCA. Note that in the case, we cannot compare an n-component CP and an n-component PCA directly, as they are different in compression efficiency.\n",
    "\n",
    "Nonetheless, \n",
    "\n",
    "CP decomposition is not automatically better"
   ]
  },
  {
   "cell_type": "code",
   "execution_count": 11,
   "id": "b7240297",
   "metadata": {},
   "outputs": [],
   "source": [
    "# Shuffle the chords / columns\n",
    "col_tensor = tensor.reshape(tensor.shape[0], -1)\n",
    "col_tensor = col_tensor[:, np.random.permutation(col_tensor.shape[1])]\n",
    "col_tensor = col_tensor.reshape(*tensor.shape)\n",
    "\n",
    "# Shuffle all numbers\n",
    "rng = np.random.default_rng(123)\n",
    "rand_tensor = rng.permutation(tensor.flatten()).reshape(*tensor.shape)"
   ]
  },
  {
   "cell_type": "code",
   "execution_count": 12,
   "id": "d63857b4",
   "metadata": {},
   "outputs": [],
   "source": [
    "for rr in np.arange(1, 13):\n",
    "    reduction = reduction.append({\n",
    "                'Size': rr * np.sum(col_tensor.shape),\n",
    "                'Error': error(col_tensor, parafac(col_tensor, rr, tol=1e-09)),\n",
    "                'Method': \"CP\",\n",
    "                'Data': 'Chords permuted',\n",
    "              },\n",
    "              ignore_index=True)\n",
    "    reduction = reduction.append({\n",
    "                'Size': rr * np.sum(rand_tensor.shape),\n",
    "                'Error': error(rand_tensor, parafac(rand_tensor, rr, tol=1e-09)),\n",
    "                'Method': \"CP\",\n",
    "                'Data': 'All permuted',\n",
    "              },\n",
    "              ignore_index=True)\n",
    "\n",
    "    \n",
    "# Find PCA data reduction\n",
    "# Chords shuffled\n",
    "col_flatten = col_tensor.reshape(col_tensor.shape[0], -1)\n",
    "col_pca = PCA(n_components=col_flatten.shape[0])\n",
    "col_pca.fit(col_flatten)\n",
    "col_pca_errors = 1 - np.cumsum(col_pca.explained_variance_ratio_)\n",
    "col_pca_sizes = np.sum(col_flatten.shape) * np.arange(1, col_flatten.shape[0] + 1)\n",
    "\n",
    "# All number shuffled\n",
    "rand_flatten = rand_tensor.reshape(rand_tensor.shape[0], -1)\n",
    "rand_pca = PCA(n_components=rand_flatten.shape[0])\n",
    "rand_pca.fit(rand_flatten)\n",
    "rand_pca_errors = 1 - np.cumsum(rand_pca.explained_variance_ratio_)\n",
    "rand_pca_sizes = np.sum(rand_flatten.shape) * np.arange(1, rand_flatten.shape[0] + 1)\n",
    "for rr in range(rand_flatten.shape[0]-1):\n",
    "    reduction = reduction.append({\n",
    "        'Size': col_pca_sizes[rr],\n",
    "        'Error': col_pca_errors[rr],\n",
    "        'Method': \"PCA\",\n",
    "        'Data': 'Chords permuted',\n",
    "      },\n",
    "      ignore_index=True)\n",
    "    reduction = reduction.append({\n",
    "            'Size': rand_pca_sizes[rr],\n",
    "            'Error': rand_pca_errors[rr],\n",
    "            'Method': \"PCA\",\n",
    "            'Data': 'All permuted',\n",
    "          },\n",
    "          ignore_index=True)"
   ]
  },
  {
   "cell_type": "code",
   "execution_count": 13,
   "id": "40f46590",
   "metadata": {},
   "outputs": [
    {
     "data": {
      "text/plain": [
       "<AxesSubplot:xlabel='Size', ylabel='Error'>"
      ]
     },
     "execution_count": 13,
     "metadata": {},
     "output_type": "execute_result"
    },
    {
     "data": {
      "image/png": "[encoded data removed]",
      "text/plain": [
       "<Figure size 432x288 with 1 Axes>"
      ]
     },
     "metadata": {
      "needs_background": "light"
     },
     "output_type": "display_data"
    }
   ],
   "source": [
    "sns.lineplot(data=reduction, x=\"Size\", y=\"Error\", hue=\"Data\", style=\"Method\", marker=\"o\", \n",
    "             palette=[\"#CFAD00\", \"#9A24D1\", \"#FF5956\"])"
   ]
  },
  {
   "cell_type": "markdown",
   "id": "13ea2069",
   "metadata": {},
   "source": [
    "## 4. Visualize the results with heatmaps"
   ]
  },
  {
   "cell_type": "markdown",
   "id": "285e7bf7",
   "metadata": {},
   "source": [
    "By default setting of the program, the weights are all 1, and the factor matrices are unnormalized. To visualize these factor matrices, we plot heatmaps for each of them, one for each mode."
   ]
  },
  {
   "cell_type": "code",
   "execution_count": 14,
   "id": "241acb99",
   "metadata": {},
   "outputs": [],
   "source": [
    "import matplotlib\n",
    "from matplotlib import gridspec, pyplot as plt\n",
    "\n",
    "\n",
    "def plot_factors(res):\n",
    "    ddims = len(res[1])\n",
    "    f = plt.figure(figsize=(5*ddims, 6))\n",
    "    gs = gridspec.GridSpec(1, ddims, wspace=0.5)\n",
    "    axes = [plt.subplot(gs[rr]) for rr in range(ddims)]\n",
    "    comp_labels = [str(ii + 1) for ii in range(rank)]\n",
    "    \n",
    "    factors = [pd.DataFrame(res[1][rr],\n",
    "                        columns=[f\"Cmp. {i}\" for i in np.arange(1, res[1][rr].shape[1]+1)],\n",
    "                        index=[organs, drugs, times][rr])\n",
    "               for rr in range(ddims)]\n",
    "    \n",
    "    for rr in range(ddims):\n",
    "        sns.heatmap(factors[rr], cmap=\"coolwarm\", center=0, \n",
    "                    xticklabels=comp_labels, yticklabels=factors[rr].index,\n",
    "                    cbar=True, vmin=-1.0, vmax=1.0, ax=axes[rr])\n",
    "        axes[rr].set_xlabel(\"Components\")\n",
    "        axes[rr].set_title(axes_names[rr])"
   ]
  },
  {
   "cell_type": "code",
   "execution_count": 15,
   "id": "0abfbbef",
   "metadata": {
    "scrolled": true
   },
   "outputs": [
    {
     "data": {
      "image/png": "[encoded data removed]",
      "text/plain": [
       "<Figure size 1080x432 with 6 Axes>"
      ]
     },
     "metadata": {
      "needs_background": "light"
     },
     "output_type": "display_data"
    }
   ],
   "source": [
    "plot_factors(cp)"
   ]
  },
  {
   "cell_type": "markdown",
   "id": "64ecfb34",
   "metadata": {},
   "source": [
    "The colors in some blocks are at the strongest ends because these weights are far beyond +1 and -1, making them hard to compare directly. To better visualize the results, we perform two additional steps to normalize the results:\n",
    "1. We scale the factor matrix columns so that largest weight in each column is 1. The weights are shifted to `cp[0]`. We sort the components by their weights. These operations will give us an equivalent decomposition."
   ]
  },
  {
   "cell_type": "code",
   "execution_count": 16,
   "id": "cf58782b",
   "metadata": {},
   "outputs": [],
   "source": [
    "def factor_scaling(res: CPTensor):\n",
    "    \"\"\" Scale the factor matrices so that they are in plottable scales. \"\"\"\n",
    "    for i, factor in enumerate(res.factors):\n",
    "        scales = np.linalg.norm(factor, ord=np.inf, axis=0)\n",
    "        res.weights *= scales\n",
    "        res.factors[i] /= scales\n",
    "\n",
    "    comp_order = np.flip(np.argsort(res.weights))\n",
    "    res.weights = res.weights[comp_order]\n",
    "    for i, factor in enumerate(res.factors):\n",
    "        res.factors[i] = factor[:, comp_order]\n",
    "    return res"
   ]
  },
  {
   "cell_type": "code",
   "execution_count": 17,
   "id": "c8e1cdf9",
   "metadata": {},
   "outputs": [],
   "source": [
    "cp = factor_scaling(cp)"
   ]
  },
  {
   "cell_type": "markdown",
   "id": "10ebcd54",
   "metadata": {},
   "source": [
    "2. We invert the signs of the factor weights of any component that have negative weights on two modes. This will ensure that at most one mode contains strong negative weights."
   ]
  },
  {
   "cell_type": "code",
   "execution_count": 18,
   "id": "47daee4a",
   "metadata": {},
   "outputs": [],
   "source": [
    "def sign_indeterminacy(res: CPTensor):\n",
    "    \"\"\" Fix CP decomposition sign indeterminacy by flipping signs in pairs of modes. \"\"\"\n",
    "    ddims = len(res[1])\n",
    "    for rr in range(ddims-1):\n",
    "        mmeans = np.sign(np.mean(res.factors[rr], axis=0))\n",
    "        res.factors[rr] *= mmeans[np.newaxis, :]\n",
    "        res.factors[rr+1] *= mmeans[np.newaxis, :]\n",
    "    return res"
   ]
  },
  {
   "cell_type": "code",
   "execution_count": 19,
   "id": "caf11381",
   "metadata": {},
   "outputs": [],
   "source": [
    "cp = sign_indeterminacy(cp)"
   ]
  },
  {
   "cell_type": "markdown",
   "id": "a1f2c6d1",
   "metadata": {},
   "source": [
    "See \"Interpreting the results\" and Fig. 2i to read more about scale indeterminacy and how it relates to result interpretation."
   ]
  },
  {
   "cell_type": "code",
   "execution_count": 20,
   "id": "04c5b9e7",
   "metadata": {},
   "outputs": [
    {
     "data": {
      "image/png": "[encoded data removed]",
      "text/plain": [
       "<Figure size 1080x432 with 6 Axes>"
      ]
     },
     "metadata": {
      "needs_background": "light"
     },
     "output_type": "display_data"
    }
   ],
   "source": [
    "plot_factors(cp) "
   ]
  },
  {
   "cell_type": "markdown",
   "id": "7674f125",
   "metadata": {},
   "source": [
    "## 5. Other options for visualizing the results"
   ]
  },
  {
   "cell_type": "markdown",
   "id": "52ae3fcb",
   "metadata": {},
   "source": [
    "Heatmaps are sometimes not the most intuitive way of visualizing weights. Therefore, here we show a few options to demonstrate the tensor decomposition results.\n",
    "\n",
    "### Looking into one component\n",
    "To highlight one component, we can make a bar plot for each factor of the three modes:"
   ]
  },
  {
   "cell_type": "code",
   "execution_count": 21,
   "id": "2b2d284b",
   "metadata": {},
   "outputs": [],
   "source": [
    "def plot_one_component(res, i_comp=1):\n",
    "    ddims = len(res[1])\n",
    "    f = plt.figure(figsize=(5*ddims, 3))\n",
    "    gs = gridspec.GridSpec(1, ddims, wspace=0.5)\n",
    "    axes = [plt.subplot(gs[rr]) for rr in range(ddims)]\n",
    "    \n",
    "    bar_colors = [\"#3177FF\", \"#FF644F\", \"#00AD01\"]\n",
    "    \n",
    "    for rr in range(ddims):\n",
    "        sns.barplot(data = pd.DataFrame(data={\"Entry\": entry_names[rr], \"Weight\": cp[1][rr][:, i_comp-1]}),\n",
    "                    x='Entry', y='Weight', color=bar_colors[rr], ax=axes[rr])\n",
    "        \n",
    "        axes[rr].set_title(axes_names[rr])\n",
    "        axes[rr].tick_params(axis='x', rotation=90)\n",
    "        \n",
    "    f.suptitle(f\"Component {i_comp}\")"
   ]
  },
  {
   "cell_type": "code",
   "execution_count": 22,
   "id": "bf79bc0a",
   "metadata": {},
   "outputs": [
    {
     "data": {
      "image/png": "[encoded data removed]",
      "text/plain": [
       "<Figure size 1080x216 with 3 Axes>"
      ]
     },
     "metadata": {
      "needs_background": "light"
     },
     "output_type": "display_data"
    }
   ],
   "source": [
    "plot_one_component(cp, i_comp=1)"
   ]
  },
  {
   "cell_type": "markdown",
   "id": "068a50af",
   "metadata": {},
   "source": [
    "### Looking into one mode\n",
    "Alternatively, we can also compare the factors across components within one mode. Depending on the nature of the mode, one can either choose a barplot or a lineplot."
   ]
  },
  {
   "cell_type": "code",
   "execution_count": 23,
   "id": "c7b162a8",
   "metadata": {},
   "outputs": [
    {
     "data": {
      "text/plain": [
       "Text(0.5, 1.0, 'Drug factors')"
      ]
     },
     "execution_count": 23,
     "metadata": {},
     "output_type": "execute_result"
    },
    {
     "data": {
      "image/png": "[encoded data removed]",
      "text/plain": [
       "<Figure size 432x288 with 1 Axes>"
      ]
     },
     "metadata": {
      "needs_background": "light"
     },
     "output_type": "display_data"
    }
   ],
   "source": [
    "drug_factors = pd.DataFrame(cp[1][1], columns=[f\"Comp. {rr}\" for rr in np.arange(1, rank+1)], index=drugs)\n",
    "drug_factors.index.name = \"Drug\"\n",
    "drug_factors = drug_factors.reset_index().melt(id_vars=['Drug'], \n",
    "                                               value_vars=[f\"Comp. {rr}\" for rr in np.arange(1, rank+1)],\n",
    "                                               var_name=\"Component\", value_name='Weight')\n",
    "\n",
    "sns.barplot(data=drug_factors, x=\"Drug\", y=\"Weight\", hue=\"Component\", \n",
    "            palette= [\"#E1812C\", \"#3A923A\", \"#C03D3E\"]).set_title(\"Drug factors\")"
   ]
  },
  {
   "cell_type": "code",
   "execution_count": 24,
   "id": "ee47663b",
   "metadata": {},
   "outputs": [
    {
     "data": {
      "text/plain": [
       "Text(0.5, 1.0, 'Time point factors')"
      ]
     },
     "execution_count": 24,
     "metadata": {},
     "output_type": "execute_result"
    },
    {
     "data": {
      "image/png": "[encoded data removed]",
      "text/plain": [
       "<Figure size 432x288 with 1 Axes>"
      ]
     },
     "metadata": {
      "needs_background": "light"
     },
     "output_type": "display_data"
    }
   ],
   "source": [
    "time_factors = pd.DataFrame(cp[1][2], columns=[f\"Comp. {rr}\" for rr in np.arange(1, rank+1)], index=times)\n",
    "time_factors.index.name = \"Time\"\n",
    "time_factors = time_factors.reset_index().melt(id_vars=['Time'], \n",
    "                                               value_vars=[f\"Comp. {rr}\" for rr in np.arange(1, rank+1)],\n",
    "                                               var_name=\"Component\", value_name='Weight')\n",
    "\n",
    "sns.lineplot(data=time_factors, x=\"Time\", y=\"Weight\", hue=\"Component\", \n",
    "             palette=[\"#E1812C\", \"#3A923A\", \"#C03D3E\"]).set_title(\"Time point factors\")"
   ]
  },
  {
   "cell_type": "markdown",
   "id": "390dd159",
   "metadata": {},
   "source": []
  },
  {
   "cell_type": "markdown",
   "id": "db756f4d",
   "metadata": {},
   "source": [
    "## 6. Use factor matrix to find associations among organs\n",
    "\n",
    "Looking into the factor matrix of organs, we can discover associations among their respective cells through associations."
   ]
  },
  {
   "cell_type": "code",
   "execution_count": 25,
   "id": "485fc91c",
   "metadata": {},
   "outputs": [],
   "source": [
    "df_organ = pd.DataFrame(data=cp[1][0], columns=[f\"Comp. {rr}\" for rr in np.arange(1, rank+1)], index=organs)"
   ]
  },
  {
   "cell_type": "code",
   "execution_count": 26,
   "id": "6ad5bb5e",
   "metadata": {},
   "outputs": [
    {
     "data": {
      "text/plain": [
       "<seaborn.matrix.ClusterGrid at 0x7fc77352f610>"
      ]
     },
     "execution_count": 26,
     "metadata": {},
     "output_type": "execute_result"
    },
    {
     "data": {
      "image/png": "[encoded data removed]",
      "text/plain": [
       "<Figure size 360x360 with 4 Axes>"
      ]
     },
     "metadata": {
      "needs_background": "light"
     },
     "output_type": "display_data"
    }
   ],
   "source": [
    "sns.clustermap(df_organ, col_cluster=False, method='average', \n",
    "               cmap=\"coolwarm\", vmin=-1.0, vmax=1.0, figsize=(5, 5)) "
   ]
  },
  {
   "cell_type": "markdown",
   "id": "987c11b0",
   "metadata": {},
   "source": [
    "## 7. Missing value and imputation test"
   ]
  },
  {
   "cell_type": "code",
   "execution_count": 27,
   "id": "56ebc192",
   "metadata": {},
   "outputs": [],
   "source": [
    "missing_value_errors = []\n",
    "missing_value_proportions = [0.0, 0.05, 0.1, 0.3, 0.5, 0.7, 0.9, 0.95]\n",
    "\n",
    "for miss_ratio in missing_value_proportions:\n",
    "    for rep in range(40):\n",
    "        unmask = np.random.rand(*tensor.shape) < 1 - miss_ratio\n",
    "        cp_masked = parafac(tensor, 3, mask=unmask)\n",
    "        recon_error = error(tensor, cp_masked.to_tensor())\n",
    "        missing_value_errors.append((miss_ratio, recon_error))\n",
    "\n",
    "missing_value_df = pd.DataFrame(missing_value_errors, columns=[\"Missing proportion\", \"Error\"])"
   ]
  },
  {
   "cell_type": "code",
   "execution_count": 28,
   "id": "2b67ee49",
   "metadata": {},
   "outputs": [
    {
     "data": {
      "image/png": "[encoded data removed]",
      "text/plain": [
       "<Figure size 432x288 with 1 Axes>"
      ]
     },
     "metadata": {
      "needs_background": "light"
     },
     "output_type": "display_data"
    }
   ],
   "source": [
    "sns.stripplot(data=missing_value_df, x=\"Missing proportion\", y=\"Error\", color=\"gray\")\n",
    "plot = sns.pointplot(data=missing_value_df, x=\"Missing proportion\", y=\"Error\")\n",
    "\n",
    "plot.figure.savefig(\"corruption.svg\")"
   ]
  },
  {
   "cell_type": "code",
   "execution_count": 29,
   "id": "bef1bb47",
   "metadata": {},
   "outputs": [
    {
     "name": "stdout",
     "output_type": "stream",
     "text": [
      "     Components  Error Type     Value\n",
      "0             1     Fitting  0.261240\n",
      "1             1  Imputation  0.174451\n",
      "2             2     Fitting  0.114299\n",
      "3             2  Imputation  0.131770\n",
      "4             3     Fitting  0.020511\n",
      "..          ...         ...       ...\n",
      "715          10  Imputation  0.077714\n",
      "716          11     Fitting  0.000040\n",
      "717          11  Imputation  0.075012\n",
      "718          12     Fitting  0.000161\n",
      "719          12  Imputation  1.869217\n",
      "\n",
      "[720 rows x 3 columns]\n"
     ]
    }
   ],
   "source": [
    "imputation_test = []\n",
    "for rep in range(30):\n",
    "    unmask = np.random.rand(*tensor.shape) < 0.8\n",
    "    # this is equivalent to masking 20% of values to be missing\n",
    "    for rr in np.arange(1, 13):\n",
    "        cp_masked = parafac(tensor, rr, mask=unmask)\n",
    "        fitting_error = error(tensor[unmask], cp_masked.to_tensor()[unmask])\n",
    "        imputation_error = error(tensor[~unmask], cp_masked.to_tensor()[~unmask])\n",
    "        imputation_test.append((rr, \"Fitting\", fitting_error))\n",
    "        imputation_test.append((rr, \"Imputation\", imputation_error))\n",
    "\n",
    "imputation_df = pd.DataFrame(imputation_test, columns=[\"Components\", \"Error Type\", \"Value\"])\n",
    "print(imputation_df)"
   ]
  },
  {
   "cell_type": "code",
   "execution_count": 30,
   "id": "be9d7a8f",
   "metadata": {},
   "outputs": [
    {
     "data": {
      "image/png": "[encoded data removed]",
      "text/plain": [
       "<Figure size 432x288 with 1 Axes>"
      ]
     },
     "metadata": {
      "needs_background": "light"
     },
     "output_type": "display_data"
    }
   ],
   "source": [
    "plot = sns.pointplot(data=imputation_df, x=\"Components\", y=\"Value\", hue=\"Error Type\", \n",
    "              linestyle=None, palette=[\"#E1812C\", \"#0173B2\"])\n",
    "plot.figure.savefig(\"imputation.svg\")"
   ]
  },
  {
   "cell_type": "markdown",
   "id": "df81601c",
   "metadata": {},
   "source": [
    "## 8. Logistic regression on the organs\n",
    "\n",
    "The decomposed factors can be used for binary classification when combined with logistic regression. For example, we try to observe the association between the effect of drug and XXX."
   ]
  },
  {
   "cell_type": "code",
   "execution_count": 31,
   "id": "59f1b059",
   "metadata": {},
   "outputs": [],
   "source": [
    "from sklearn.linear_model import LogisticRegression"
   ]
  },
  {
   "cell_type": "markdown",
   "id": "44794dbb",
   "metadata": {},
   "source": [
    "Logistic regression assigns linear weights to each component, therefore the previous normalization on the organ factor matrix, such as scaling and sign flipping, does not alter the results."
   ]
  },
  {
   "cell_type": "code",
   "execution_count": 32,
   "id": "6f119e61",
   "metadata": {},
   "outputs": [
    {
     "data": {
      "text/plain": [
       "0.8571428571428571"
      ]
     },
     "execution_count": 32,
     "metadata": {},
     "output_type": "execute_result"
    }
   ],
   "source": [
    "organ_effect = np.array([0, 0, 1, 0, 1, 0, 1])\n",
    "lr = LogisticRegression().fit(cp[1][0], organ_effect)\n",
    "lr.score(cp[1][0], organ_effect)"
   ]
  },
  {
   "cell_type": "code",
   "execution_count": 33,
   "id": "99bbf82f",
   "metadata": {},
   "outputs": [
    {
     "data": {
      "text/plain": [
       "array([[ 0.88194697, -0.44151518,  0.33957457]])"
      ]
     },
     "execution_count": 33,
     "metadata": {},
     "output_type": "execute_result"
    }
   ],
   "source": [
    "lr.coef_"
   ]
  },
  {
   "cell_type": "markdown",
   "id": "88918b6c",
   "metadata": {},
   "source": [
    "To estimate the variations of the coefficient, we perform a jackknife resampling."
   ]
  },
  {
   "cell_type": "code",
   "execution_count": 34,
   "id": "fb68e7fd",
   "metadata": {},
   "outputs": [],
   "source": [
    "from sklearn.model_selection import LeaveOneOut\n",
    "from tensorly.metrics.factors import congruence_coefficient\n",
    "\n",
    "lr_jackknife = []\n",
    "for ii in range(tensor.shape[0]):\n",
    "    # get jackknife indices\n",
    "    jk = np.delete(np.arange(tensor.shape[0]), [ii])\n",
    "    jcp = parafac(tensor[jk], 3)\n",
    "    jcp = factor_scaling(jcp)\n",
    "    \n",
    "    # align jackknifed factors with original for comparison    \n",
    "    jcp = sign_indeterminacy(jcp)\n",
    "    congru_perm = congruence_coefficient(cp[1][0][jk, :], jcp[1][0])[1]\n",
    "    jcp.weights = jcp[0][congru_perm]\n",
    "    for i, factor in enumerate(jcp.factors):\n",
    "        jcp.factors[i] = factor[:, congru_perm]\n",
    "    \n",
    "    # run logistic regression\n",
    "    lr = LogisticRegression().fit(jcp[1][0], organ_effect[jk])\n",
    "    lr_jackknife.append(lr.coef_)\n",
    "\n",
    "lr_coef = pd.DataFrame(np.concatenate(lr_jackknife), columns=[f\"Comp. {r}\" for r in np.arange(1, rank+1)])\n",
    "lr_coef = pd.melt(lr_coef, var_name=\"Factor\", value_name=\"Coefficient\")"
   ]
  },
  {
   "cell_type": "code",
   "execution_count": 35,
   "id": "44008647",
   "metadata": {},
   "outputs": [
    {
     "data": {
      "image/png": "[encoded data removed]",
      "text/plain": [
       "<Figure size 432x288 with 1 Axes>"
      ]
     },
     "metadata": {
      "needs_background": "light"
     },
     "output_type": "display_data"
    }
   ],
   "source": [
    "plot = sns.barplot(data=lr_coef, x=\"Coefficient\", y=\"Factor\", orient=\"h\", color=\"gray\")\n",
    "plot.figure.savefig(\"logistic.svg\")"
   ]
  },
  {
   "cell_type": "code",
   "execution_count": 36,
   "id": "e571219d",
   "metadata": {},
   "outputs": [
    {
     "data": {
      "text/plain": [
       "array([0, 0, 1, 0, 1, 0])"
      ]
     },
     "execution_count": 36,
     "metadata": {},
     "output_type": "execute_result"
    }
   ],
   "source": [
    "organ_effect[jk]"
   ]
  },
  {
   "cell_type": "code",
   "execution_count": 37,
   "id": "6217fc57",
   "metadata": {},
   "outputs": [
    {
     "data": {
      "text/plain": [
       "0.8571428571428571"
      ]
     },
     "execution_count": 37,
     "metadata": {},
     "output_type": "execute_result"
    }
   ],
   "source": [
    "reduced_data = cp[1][0][:, [2, 0]]\n",
    "lr_reduced = LogisticRegression().fit(reduced_data, organ_effect)\n",
    "lr_reduced.score(reduced_data, organ_effect)"
   ]
  },
  {
   "cell_type": "code",
   "execution_count": 38,
   "id": "fae8bef9",
   "metadata": {},
   "outputs": [
    {
     "data": {
      "text/plain": [
       "array([[-0.17042685,  1.        ],\n",
       "       [-0.31705504, -0.10800934],\n",
       "       [ 0.39091754,  0.45799948],\n",
       "       [ 0.22380659,  0.67307673],\n",
       "       [ 1.        ,  0.28122155],\n",
       "       [ 0.1317451 ,  0.85971262],\n",
       "       [ 0.62291492, -0.0245926 ]])"
      ]
     },
     "execution_count": 38,
     "metadata": {},
     "output_type": "execute_result"
    }
   ],
   "source": [
    "cp[1][0][:, [0,1]]"
   ]
  },
  {
   "cell_type": "code",
   "execution_count": null,
   "id": "64057188",
   "metadata": {},
   "outputs": [],
   "source": []
  },
  {
   "cell_type": "markdown",
   "id": "059a5e64",
   "metadata": {},
   "source": [
    "### Sparsity (does not work)"
   ]
  },
  {
   "cell_type": "code",
   "execution_count": 39,
   "id": "42266f89",
   "metadata": {},
   "outputs": [
    {
     "data": {
      "image/png": "[encoded data removed]",
      "text/plain": [
       "<Figure size 1080x432 with 6 Axes>"
      ]
     },
     "metadata": {
      "needs_background": "light"
     },
     "output_type": "display_data"
    }
   ],
   "source": [
    "l2_sparsity = [1.0, 5.0, 10.0]\n",
    "f = plt.figure(figsize=(5*len(l2_sparsity), 6))\n",
    "gs = gridspec.GridSpec(1, len(l2_sparsity), wspace=0.5)\n",
    "axes = [plt.subplot(gs[rr]) for rr in range(len(l2_sparsity))]\n",
    "comp_labels = [str(ii + 1) for ii in range(rank)]\n",
    "\n",
    "for rr in range(len(l2_sparsity)):\n",
    "    cp_sparse = parafac(tensor, 3, sparsity=l2_sparsity[rr])[0]\n",
    "    #print(cp_sparse[0][1])\n",
    "    #print(cp_sparse[1])\n",
    "    cp_sparse = factor_scaling(cp_sparse)\n",
    "    cp_sparse = sign_indeterminacy(cp_sparse)\n",
    "    \n",
    "    sparse_factor = pd.DataFrame(cp_sparse[1][0],\n",
    "                        columns=[f\"Cmp. {i}\" for i in np.arange(1, 4)],\n",
    "                        index=organs)\n",
    "    \n",
    "    sns.heatmap(sparse_factor, cmap=\"coolwarm\", center=0, \n",
    "                xticklabels=comp_labels, yticklabels=sparse_factor.index,\n",
    "                cbar=True, vmin=-1.0, vmax=1.0, ax=axes[rr])\n",
    "    axes[rr].set_xlabel(\"Components\")"
   ]
  },
  {
   "cell_type": "code",
   "execution_count": null,
   "id": "10d620b0",
   "metadata": {},
   "outputs": [],
   "source": []
  }
 ],
 "metadata": {
  "kernelspec": {
   "display_name": "syserol",
   "language": "python",
   "name": "syserol"
  },
  "language_info": {
   "codemirror_mode": {
    "name": "ipython",
    "version": 3
   },
   "file_extension": ".py",
   "mimetype": "text/x-python",
   "name": "python",
   "nbconvert_exporter": "python",
   "pygments_lexer": "ipython3",
   "version": "3.9.7"
  }
 },
 "nbformat": 4,
 "nbformat_minor": 5
}
